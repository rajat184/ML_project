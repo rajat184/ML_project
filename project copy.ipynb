{
 "cells": [
  {
   "cell_type": "code",
   "execution_count": 27,
   "metadata": {},
   "outputs": [],
   "source": [
    "import pandas as pd"
   ]
  },
  {
   "cell_type": "code",
   "execution_count": 28,
   "metadata": {},
   "outputs": [
    {
     "name": "stdout",
     "output_type": "stream",
     "text": [
      "Train Dataset:\n",
      "       ID Customer_ID      Month             Name  Age          SSN  \\\n",
      "0  0x160a   CUS_0xd40  September    Aaron Maashoh   23  821-00-0265   \n",
      "1  0x160b   CUS_0xd40    October    Aaron Maashoh   24  821-00-0265   \n",
      "2  0x160c   CUS_0xd40   November    Aaron Maashoh   24  821-00-0265   \n",
      "3  0x160d   CUS_0xd40   December    Aaron Maashoh  24_  821-00-0265   \n",
      "4  0x1616  CUS_0x21b1  September  Rick Rothackerj   28  004-07-5839   \n",
      "\n",
      "  Occupation Annual_Income  Monthly_Inhand_Salary  Num_Bank_Accounts  ...  \\\n",
      "0  Scientist      19114.12            1824.843333                  3  ...   \n",
      "1  Scientist      19114.12            1824.843333                  3  ...   \n",
      "2  Scientist      19114.12            1824.843333                  3  ...   \n",
      "3  Scientist      19114.12                    NaN                  3  ...   \n",
      "4    _______      34847.84            3037.986667                  2  ...   \n",
      "\n",
      "   Num_Credit_Inquiries  Credit_Mix Outstanding_Debt Credit_Utilization_Ratio  \\\n",
      "0                2022.0        Good           809.98                35.030402   \n",
      "1                   4.0        Good           809.98                33.053114   \n",
      "2                   4.0        Good           809.98                33.811894   \n",
      "3                   4.0        Good           809.98                32.430559   \n",
      "4                   5.0        Good           605.03                25.926822   \n",
      "\n",
      "       Credit_History_Age Payment_of_Min_Amount Total_EMI_per_month  \\\n",
      "0   22 Years and 9 Months                    No           49.574949   \n",
      "1  22 Years and 10 Months                    No           49.574949   \n",
      "2                     NaN                    No           49.574949   \n",
      "3   23 Years and 0 Months                    No           49.574949   \n",
      "4   27 Years and 3 Months                    No           18.816215   \n",
      "\n",
      "   Amount_invested_monthly                 Payment_Behaviour  \\\n",
      "0       236.64268203272135    Low_spent_Small_value_payments   \n",
      "1       21.465380264657146  High_spent_Medium_value_payments   \n",
      "2       148.23393788500925   Low_spent_Medium_value_payments   \n",
      "3        39.08251089460281  High_spent_Medium_value_payments   \n",
      "4       39.684018417945296   High_spent_Large_value_payments   \n",
      "\n",
      "      Monthly_Balance  \n",
      "0  186.26670208571772  \n",
      "1  361.44400385378196  \n",
      "2  264.67544623342997  \n",
      "3  343.82687322383634  \n",
      "4   485.2984336755923  \n",
      "\n",
      "[5 rows x 27 columns]\n"
     ]
    }
   ],
   "source": [
    "train_df = pd.read_csv(\"dataset/test.csv\")\n",
    "print(\"Train Dataset:\")\n",
    "print(train_df.head())\n",
    "\n",
    "\n",
    "#check suraj\n"
   ]
  },
  {
   "cell_type": "code",
   "execution_count": 29,
   "metadata": {},
   "outputs": [
    {
     "name": "stdout",
     "output_type": "stream",
     "text": [
      "<class 'pandas.core.frame.DataFrame'>\n",
      "RangeIndex: 50000 entries, 0 to 49999\n",
      "Data columns (total 27 columns):\n",
      " #   Column                    Non-Null Count  Dtype  \n",
      "---  ------                    --------------  -----  \n",
      " 0   ID                        50000 non-null  object \n",
      " 1   Customer_ID               50000 non-null  object \n",
      " 2   Month                     50000 non-null  object \n",
      " 3   Name                      44985 non-null  object \n",
      " 4   Age                       50000 non-null  object \n",
      " 5   SSN                       50000 non-null  object \n",
      " 6   Occupation                50000 non-null  object \n",
      " 7   Annual_Income             50000 non-null  object \n",
      " 8   Monthly_Inhand_Salary     42502 non-null  float64\n",
      " 9   Num_Bank_Accounts         50000 non-null  int64  \n",
      " 10  Num_Credit_Card           50000 non-null  int64  \n",
      " 11  Interest_Rate             50000 non-null  int64  \n",
      " 12  Num_of_Loan               50000 non-null  object \n",
      " 13  Type_of_Loan              44296 non-null  object \n",
      " 14  Delay_from_due_date       50000 non-null  int64  \n",
      " 15  Num_of_Delayed_Payment    46502 non-null  object \n",
      " 16  Changed_Credit_Limit      50000 non-null  object \n",
      " 17  Num_Credit_Inquiries      48965 non-null  float64\n",
      " 18  Credit_Mix                50000 non-null  object \n",
      " 19  Outstanding_Debt          50000 non-null  object \n",
      " 20  Credit_Utilization_Ratio  50000 non-null  float64\n",
      " 21  Credit_History_Age        45530 non-null  object \n",
      " 22  Payment_of_Min_Amount     50000 non-null  object \n",
      " 23  Total_EMI_per_month       50000 non-null  float64\n",
      " 24  Amount_invested_monthly   47729 non-null  object \n",
      " 25  Payment_Behaviour         50000 non-null  object \n",
      " 26  Monthly_Balance           49438 non-null  object \n",
      "dtypes: float64(4), int64(4), object(19)\n",
      "memory usage: 10.3+ MB\n"
     ]
    }
   ],
   "source": [
    "train_df.info()"
   ]
  },
  {
   "cell_type": "code",
   "execution_count": 30,
   "metadata": {},
   "outputs": [],
   "source": [
    "train_df = train_df.drop([\"ID\", \"Name\", \"SSN\", \"Customer_ID\",\"Month\"], axis=1)"
   ]
  },
  {
   "cell_type": "code",
   "execution_count": 31,
   "metadata": {},
   "outputs": [
    {
     "data": {
      "text/html": [
       "<div>\n",
       "<style scoped>\n",
       "    .dataframe tbody tr th:only-of-type {\n",
       "        vertical-align: middle;\n",
       "    }\n",
       "\n",
       "    .dataframe tbody tr th {\n",
       "        vertical-align: top;\n",
       "    }\n",
       "\n",
       "    .dataframe thead th {\n",
       "        text-align: right;\n",
       "    }\n",
       "</style>\n",
       "<table border=\"1\" class=\"dataframe\">\n",
       "  <thead>\n",
       "    <tr style=\"text-align: right;\">\n",
       "      <th></th>\n",
       "      <th>Monthly_Inhand_Salary</th>\n",
       "      <th>Num_Bank_Accounts</th>\n",
       "      <th>Num_Credit_Card</th>\n",
       "      <th>Interest_Rate</th>\n",
       "      <th>Delay_from_due_date</th>\n",
       "      <th>Num_Credit_Inquiries</th>\n",
       "      <th>Credit_Utilization_Ratio</th>\n",
       "      <th>Total_EMI_per_month</th>\n",
       "    </tr>\n",
       "  </thead>\n",
       "  <tbody>\n",
       "    <tr>\n",
       "      <th>count</th>\n",
       "      <td>42502.000000</td>\n",
       "      <td>50000.000000</td>\n",
       "      <td>50000.000000</td>\n",
       "      <td>50000.000000</td>\n",
       "      <td>50000.000000</td>\n",
       "      <td>48965.000000</td>\n",
       "      <td>50000.000000</td>\n",
       "      <td>50000.000000</td>\n",
       "    </tr>\n",
       "    <tr>\n",
       "      <th>mean</th>\n",
       "      <td>4182.004291</td>\n",
       "      <td>16.838260</td>\n",
       "      <td>22.921480</td>\n",
       "      <td>68.772640</td>\n",
       "      <td>21.052640</td>\n",
       "      <td>30.080200</td>\n",
       "      <td>32.279581</td>\n",
       "      <td>1491.304305</td>\n",
       "    </tr>\n",
       "    <tr>\n",
       "      <th>std</th>\n",
       "      <td>3174.109304</td>\n",
       "      <td>116.396848</td>\n",
       "      <td>129.314804</td>\n",
       "      <td>451.602363</td>\n",
       "      <td>14.860397</td>\n",
       "      <td>196.984121</td>\n",
       "      <td>5.106238</td>\n",
       "      <td>8595.647887</td>\n",
       "    </tr>\n",
       "    <tr>\n",
       "      <th>min</th>\n",
       "      <td>303.645417</td>\n",
       "      <td>-1.000000</td>\n",
       "      <td>0.000000</td>\n",
       "      <td>1.000000</td>\n",
       "      <td>-5.000000</td>\n",
       "      <td>0.000000</td>\n",
       "      <td>20.509652</td>\n",
       "      <td>0.000000</td>\n",
       "    </tr>\n",
       "    <tr>\n",
       "      <th>25%</th>\n",
       "      <td>1625.188333</td>\n",
       "      <td>3.000000</td>\n",
       "      <td>4.000000</td>\n",
       "      <td>8.000000</td>\n",
       "      <td>10.000000</td>\n",
       "      <td>4.000000</td>\n",
       "      <td>28.061040</td>\n",
       "      <td>32.222388</td>\n",
       "    </tr>\n",
       "    <tr>\n",
       "      <th>50%</th>\n",
       "      <td>3086.305000</td>\n",
       "      <td>6.000000</td>\n",
       "      <td>5.000000</td>\n",
       "      <td>13.000000</td>\n",
       "      <td>18.000000</td>\n",
       "      <td>7.000000</td>\n",
       "      <td>32.280390</td>\n",
       "      <td>74.733349</td>\n",
       "    </tr>\n",
       "    <tr>\n",
       "      <th>75%</th>\n",
       "      <td>5934.189094</td>\n",
       "      <td>7.000000</td>\n",
       "      <td>7.000000</td>\n",
       "      <td>20.000000</td>\n",
       "      <td>28.000000</td>\n",
       "      <td>10.000000</td>\n",
       "      <td>36.468591</td>\n",
       "      <td>176.157491</td>\n",
       "    </tr>\n",
       "    <tr>\n",
       "      <th>max</th>\n",
       "      <td>15204.633333</td>\n",
       "      <td>1798.000000</td>\n",
       "      <td>1499.000000</td>\n",
       "      <td>5799.000000</td>\n",
       "      <td>67.000000</td>\n",
       "      <td>2593.000000</td>\n",
       "      <td>48.540663</td>\n",
       "      <td>82398.000000</td>\n",
       "    </tr>\n",
       "  </tbody>\n",
       "</table>\n",
       "</div>"
      ],
      "text/plain": [
       "       Monthly_Inhand_Salary  Num_Bank_Accounts  Num_Credit_Card  \\\n",
       "count           42502.000000       50000.000000     50000.000000   \n",
       "mean             4182.004291          16.838260        22.921480   \n",
       "std              3174.109304         116.396848       129.314804   \n",
       "min               303.645417          -1.000000         0.000000   \n",
       "25%              1625.188333           3.000000         4.000000   \n",
       "50%              3086.305000           6.000000         5.000000   \n",
       "75%              5934.189094           7.000000         7.000000   \n",
       "max             15204.633333        1798.000000      1499.000000   \n",
       "\n",
       "       Interest_Rate  Delay_from_due_date  Num_Credit_Inquiries  \\\n",
       "count   50000.000000         50000.000000          48965.000000   \n",
       "mean       68.772640            21.052640             30.080200   \n",
       "std       451.602363            14.860397            196.984121   \n",
       "min         1.000000            -5.000000              0.000000   \n",
       "25%         8.000000            10.000000              4.000000   \n",
       "50%        13.000000            18.000000              7.000000   \n",
       "75%        20.000000            28.000000             10.000000   \n",
       "max      5799.000000            67.000000           2593.000000   \n",
       "\n",
       "       Credit_Utilization_Ratio  Total_EMI_per_month  \n",
       "count              50000.000000         50000.000000  \n",
       "mean                  32.279581          1491.304305  \n",
       "std                    5.106238          8595.647887  \n",
       "min                   20.509652             0.000000  \n",
       "25%                   28.061040            32.222388  \n",
       "50%                   32.280390            74.733349  \n",
       "75%                   36.468591           176.157491  \n",
       "max                   48.540663         82398.000000  "
      ]
     },
     "execution_count": 31,
     "metadata": {},
     "output_type": "execute_result"
    }
   ],
   "source": [
    "train_df.describe()"
   ]
  },
  {
   "cell_type": "markdown",
   "metadata": {},
   "source": [
    "Data cleaning"
   ]
  },
  {
   "cell_type": "code",
   "execution_count": 32,
   "metadata": {},
   "outputs": [
    {
     "data": {
      "text/plain": [
       "Age                            0\n",
       "Occupation                     0\n",
       "Annual_Income                  0\n",
       "Monthly_Inhand_Salary       7498\n",
       "Num_Bank_Accounts              0\n",
       "Num_Credit_Card                0\n",
       "Interest_Rate                  0\n",
       "Num_of_Loan                    0\n",
       "Type_of_Loan                5704\n",
       "Delay_from_due_date            0\n",
       "Num_of_Delayed_Payment      3498\n",
       "Changed_Credit_Limit           0\n",
       "Num_Credit_Inquiries        1035\n",
       "Credit_Mix                     0\n",
       "Outstanding_Debt               0\n",
       "Credit_Utilization_Ratio       0\n",
       "Credit_History_Age          4470\n",
       "Payment_of_Min_Amount          0\n",
       "Total_EMI_per_month            0\n",
       "Amount_invested_monthly     2271\n",
       "Payment_Behaviour              0\n",
       "Monthly_Balance              562\n",
       "dtype: int64"
      ]
     },
     "execution_count": 32,
     "metadata": {},
     "output_type": "execute_result"
    }
   ],
   "source": [
    "train_df.isnull().sum()"
   ]
  },
  {
   "cell_type": "code",
   "execution_count": 33,
   "metadata": {},
   "outputs": [
    {
     "name": "stdout",
     "output_type": "stream",
     "text": [
      "count                                49438\n",
      "unique                               49433\n",
      "top       __-333333333333333333333333333__\n",
      "freq                                     6\n",
      "Name: Monthly_Balance, dtype: object\n"
     ]
    }
   ],
   "source": [
    "column_description = train_df[\"Monthly_Balance\"].describe()\n",
    "print(column_description)"
   ]
  },
  {
   "cell_type": "code",
   "execution_count": 34,
   "metadata": {},
   "outputs": [
    {
     "name": "stdout",
     "output_type": "stream",
     "text": [
      "count    50000.000000\n",
      "mean       403.066257\n",
      "std        212.467885\n",
      "min          0.103402\n",
      "25%        271.118562\n",
      "50%        338.992491\n",
      "75%        468.571215\n",
      "max       1606.518192\n",
      "Name: Monthly_Balance, dtype: float64\n"
     ]
    },
    {
     "name": "stderr",
     "output_type": "stream",
     "text": [
      "/var/folders/g0/g5qr_lwn28d7m35_7c1ksm300000gn/T/ipykernel_30597/506373918.py:8: FutureWarning: A value is trying to be set on a copy of a DataFrame or Series through chained assignment using an inplace method.\n",
      "The behavior will change in pandas 3.0. This inplace method will never work because the intermediate object on which we are setting values always behaves as a copy.\n",
      "\n",
      "For example, when doing 'df[col].method(value, inplace=True)', try using 'df.method({col: value}, inplace=True)' or df[col] = df[col].method(value) instead, to perform the operation inplace on the original object.\n",
      "\n",
      "\n",
      "  train_df[\"Monthly_Balance\"].fillna(train_df[\"Monthly_Balance\"].mean(), inplace=True)\n"
     ]
    }
   ],
   "source": [
    "import numpy as np\n",
    "\n",
    "# Convert 'Monthly_Balance' to numeric, forcing errors to NaN\n",
    "train_df[\"Monthly_Balance\"] = pd.to_numeric(\n",
    "    train_df[\"Monthly_Balance\"], errors=\"coerce\"\n",
    ")\n",
    "\n",
    "train_df[\"Monthly_Balance\"].fillna(train_df[\"Monthly_Balance\"].mean(), inplace=True)\n",
    "\n",
    "# Verify that the column is cleaned\n",
    "print(train_df[\"Monthly_Balance\"].describe())"
   ]
  },
  {
   "cell_type": "code",
   "execution_count": 35,
   "metadata": {},
   "outputs": [
    {
     "name": "stderr",
     "output_type": "stream",
     "text": [
      "/var/folders/g0/g5qr_lwn28d7m35_7c1ksm300000gn/T/ipykernel_30597/1947382136.py:2: FutureWarning: A value is trying to be set on a copy of a DataFrame or Series through chained assignment using an inplace method.\n",
      "The behavior will change in pandas 3.0. This inplace method will never work because the intermediate object on which we are setting values always behaves as a copy.\n",
      "\n",
      "For example, when doing 'df[col].method(value, inplace=True)', try using 'df.method({col: value}, inplace=True)' or df[col] = df[col].method(value) instead, to perform the operation inplace on the original object.\n",
      "\n",
      "\n",
      "  train_df[\"Occupation\"].replace(\"_______\", \"Other\", inplace=True)\n"
     ]
    },
    {
     "data": {
      "text/plain": [
       "Occupation\n",
       "Other            3438\n",
       "Lawyer           3324\n",
       "Engineer         3212\n",
       "Architect        3195\n",
       "Mechanic         3168\n",
       "Developer        3146\n",
       "Accountant       3133\n",
       "Media_Manager    3130\n",
       "Scientist        3104\n",
       "Teacher          3103\n",
       "Entrepreneur     3103\n",
       "Journalist       3037\n",
       "Doctor           3027\n",
       "Manager          3000\n",
       "Musician         2947\n",
       "Writer           2933\n",
       "Name: count, dtype: int64"
      ]
     },
     "execution_count": 35,
     "metadata": {},
     "output_type": "execute_result"
    }
   ],
   "source": [
    "# replace \"____\" in occupation column to \"Other\"\n",
    "train_df[\"Occupation\"].replace(\"_______\", \"Other\", inplace=True)\n",
    "# train_df[\"Occupation\"] = train_df[\"Occupation\"].replace(\"Other\")\n",
    "\n",
    "train_df[\"Occupation\"].value_counts()"
   ]
  },
  {
   "cell_type": "code",
   "execution_count": 36,
   "metadata": {},
   "outputs": [],
   "source": [
    "train_df['Num_of_Loan'] = train_df['Num_of_Loan'].apply(lambda x: str(str(x).replace(\"_\",\"\")))\n",
    "train_df['Num_of_Loan'] = train_df['Num_of_Loan'].apply(lambda x: abs(float(x)))"
   ]
  },
  {
   "cell_type": "code",
   "execution_count": 37,
   "metadata": {},
   "outputs": [
    {
     "name": "stdout",
     "output_type": "stream",
     "text": [
      "count             50000\n",
      "unique             2486\n",
      "top       Not Specified\n",
      "freq               5704\n",
      "Name: Type_of_Loan, dtype: object\n"
     ]
    }
   ],
   "source": [
    "# filling not specified instead of na\n",
    "train_df['Type_of_Loan'] = train_df['Type_of_Loan'].fillna('Not Specified')\n",
    "def clean_loan_types(loan_list):\n",
    "    unique_loans = list(set([loan.strip() for loan in loan_list.split(',')]))\n",
    "    \n",
    "    if 'Not Specified' in unique_loans and len(unique_loans) > 1:\n",
    "        unique_loans.remove('Not Specified')\n",
    "    \n",
    "    return ', '.join(unique_loans)\n",
    "\n",
    "train_df['Type_of_Loan'] = train_df['Type_of_Loan'].apply(clean_loan_types)\n",
    "print(train_df[\"Type_of_Loan\"].describe())\n"
   ]
  },
  {
   "cell_type": "code",
   "execution_count": 38,
   "metadata": {},
   "outputs": [],
   "source": [
    "train_df['Num_of_Delayed_Payment'] = train_df['Num_of_Delayed_Payment'].fillna(\"0\")\n",
    "train_df['Num_of_Delayed_Payment'] = train_df['Num_of_Delayed_Payment'].apply(lambda x: str(x).replace(\"_\", \"\"))\n",
    "train_df['Num_of_Delayed_Payment'] = pd.to_numeric(train_df['Num_of_Delayed_Payment'], errors='coerce')\n",
    "train_df['Num_of_Delayed_Payment'] = train_df['Num_of_Delayed_Payment'].fillna(0)\n",
    "train_df['Num_of_Delayed_Payment'] = train_df['Num_of_Delayed_Payment'].astype(int)\n"
   ]
  },
  {
   "cell_type": "code",
   "execution_count": 39,
   "metadata": {},
   "outputs": [],
   "source": [
    "train_df['Changed_Credit_Limit'] = train_df['Changed_Credit_Limit'].apply(lambda x: str(x).replace(\"_\", \"0\"))\n",
    "train_df['Changed_Credit_Limit'] = pd.to_numeric(train_df['Changed_Credit_Limit'], errors='coerce')\n",
    "train_df['Changed_Credit_Limit'] = train_df['Changed_Credit_Limit'].fillna(train_df['Changed_Credit_Limit'].median())\n"
   ]
  },
  {
   "cell_type": "code",
   "execution_count": 40,
   "metadata": {},
   "outputs": [
    {
     "name": "stdout",
     "output_type": "stream",
     "text": [
      "count    50000.000000\n",
      "mean       109.714420\n",
      "std        679.696381\n",
      "min       -500.000000\n",
      "25%         25.000000\n",
      "50%         34.000000\n",
      "75%         43.000000\n",
      "max       8688.000000\n",
      "Name: Age, dtype: float64\n"
     ]
    }
   ],
   "source": [
    "train_df['Age'] = train_df['Age'].apply(lambda x: str(x).replace(\"_\", \"\"))\n",
    "train_df['Age'] = pd.to_numeric(train_df['Age'], errors='coerce')\n",
    "train_df['Age'] = train_df['Age'].fillna(train_df['Age'].median())\n",
    "\n",
    "\n",
    "print(train_df['Age'].describe())"
   ]
  },
  {
   "cell_type": "code",
   "execution_count": 41,
   "metadata": {},
   "outputs": [
    {
     "name": "stdout",
     "output_type": "stream",
     "text": [
      "count    50000.000000\n",
      "mean       227.049920\n",
      "std         95.002194\n",
      "min         10.000000\n",
      "25%        160.000000\n",
      "50%        225.000000\n",
      "75%        298.000000\n",
      "max        408.000000\n",
      "Name: Credit_History_Age, dtype: float64\n"
     ]
    },
    {
     "name": "stderr",
     "output_type": "stream",
     "text": [
      "/var/folders/g0/g5qr_lwn28d7m35_7c1ksm300000gn/T/ipykernel_30597/3896358569.py:7: FutureWarning: A value is trying to be set on a copy of a DataFrame or Series through chained assignment using an inplace method.\n",
      "The behavior will change in pandas 3.0. This inplace method will never work because the intermediate object on which we are setting values always behaves as a copy.\n",
      "\n",
      "For example, when doing 'df[col].method(value, inplace=True)', try using 'df.method({col: value}, inplace=True)' or df[col] = df[col].method(value) instead, to perform the operation inplace on the original object.\n",
      "\n",
      "\n",
      "  train_df['Credit_History_Age'].fillna(median_value, inplace=True)\n"
     ]
    }
   ],
   "source": [
    "train_df['Credit_History_Age'] = train_df['Credit_History_Age'].apply(\n",
    "    lambda x: (int(x.split(' ')[0]) * 12 + int(x.split(' ')[3])) if pd.notnull(x) else None\n",
    ").astype(float)\n",
    "\n",
    "# Fill missing values with the median\n",
    "median_value = train_df['Credit_History_Age'].median()\n",
    "train_df['Credit_History_Age'].fillna(median_value, inplace=True)\n",
    "\n",
    "# describe the cleaned column\n",
    "print(train_df[\"Credit_History_Age\"].describe())\n"
   ]
  },
  {
   "cell_type": "code",
   "execution_count": 42,
   "metadata": {},
   "outputs": [
    {
     "name": "stdout",
     "output_type": "stream",
     "text": [
      "count    50000.000000\n",
      "mean        32.279581\n",
      "std          5.106238\n",
      "min         20.509652\n",
      "25%         28.061040\n",
      "50%         32.280390\n",
      "75%         36.468591\n",
      "max         48.540663\n",
      "Name: Credit_Utilization_Ratio, dtype: float64\n"
     ]
    }
   ],
   "source": [
    "# describe the credit utilization ratio column\n",
    "print(train_df[\"Credit_Utilization_Ratio\"].describe())"
   ]
  },
  {
   "cell_type": "code",
   "execution_count": 43,
   "metadata": {},
   "outputs": [
    {
     "name": "stdout",
     "output_type": "stream",
     "text": [
      "count    50000.000000\n",
      "mean      1426.220376\n",
      "std       1155.134801\n",
      "min          0.230000\n",
      "25%        566.072500\n",
      "50%       1166.155000\n",
      "75%       1945.962500\n",
      "max       4998.070000\n",
      "Name: Outstanding_Debt, dtype: float64\n"
     ]
    }
   ],
   "source": [
    "train_df[\"Outstanding_Debt\"] = train_df[\"Outstanding_Debt\"].apply(\n",
    "    lambda x: str(x).replace(\"_\", \"\")\n",
    ")\n",
    "train_df[\"Outstanding_Debt\"] = train_df[\"Outstanding_Debt\"].astype(float)\n",
    "column_description = train_df[\"Outstanding_Debt\"].describe()\n",
    "\n",
    "print(column_description)"
   ]
  },
  {
   "cell_type": "code",
   "execution_count": 44,
   "metadata": {},
   "outputs": [
    {
     "name": "stdout",
     "output_type": "stream",
     "text": [
      "count        50000\n",
      "unique           4\n",
      "top       Standard\n",
      "freq         18379\n",
      "Name: Credit_Mix, dtype: object\n"
     ]
    },
    {
     "name": "stderr",
     "output_type": "stream",
     "text": [
      "/var/folders/g0/g5qr_lwn28d7m35_7c1ksm300000gn/T/ipykernel_30597/2643106773.py:2: FutureWarning: A value is trying to be set on a copy of a DataFrame or Series through chained assignment using an inplace method.\n",
      "The behavior will change in pandas 3.0. This inplace method will never work because the intermediate object on which we are setting values always behaves as a copy.\n",
      "\n",
      "For example, when doing 'df[col].method(value, inplace=True)', try using 'df.method({col: value}, inplace=True)' or df[col] = df[col].method(value) instead, to perform the operation inplace on the original object.\n",
      "\n",
      "\n",
      "  train_df[\"Credit_Mix\"].replace(\"_\", \"Other\", inplace=True)\n",
      "/var/folders/g0/g5qr_lwn28d7m35_7c1ksm300000gn/T/ipykernel_30597/2643106773.py:3: FutureWarning: A value is trying to be set on a copy of a DataFrame or Series through chained assignment using an inplace method.\n",
      "The behavior will change in pandas 3.0. This inplace method will never work because the intermediate object on which we are setting values always behaves as a copy.\n",
      "\n",
      "For example, when doing 'df[col].method(value, inplace=True)', try using 'df.method({col: value}, inplace=True)' or df[col] = df[col].method(value) instead, to perform the operation inplace on the original object.\n",
      "\n",
      "\n",
      "  train_df[\"Credit_Mix\"].replace(\"\", \"Other\", inplace=True)\n"
     ]
    }
   ],
   "source": [
    "# cleaning credit mix with entries \"_\" or \"\" to \"Other\"\n",
    "train_df[\"Credit_Mix\"].replace(\"_\", \"Other\", inplace=True)\n",
    "train_df[\"Credit_Mix\"].replace(\"\", \"Other\", inplace=True)\n",
    "\n",
    "# describe the 'Credit_Mix' column\n",
    "column_description = train_df[\"Credit_Mix\"].describe()\n",
    "print(column_description)"
   ]
  },
  {
   "cell_type": "code",
   "execution_count": 45,
   "metadata": {},
   "outputs": [
    {
     "name": "stdout",
     "output_type": "stream",
     "text": [
      "count    50000.000000\n",
      "mean        29.457540\n",
      "std        194.981674\n",
      "min          0.000000\n",
      "25%          4.000000\n",
      "50%          7.000000\n",
      "75%         10.000000\n",
      "max       2593.000000\n",
      "Name: Num_Credit_Inquiries, dtype: float64\n"
     ]
    },
    {
     "name": "stderr",
     "output_type": "stream",
     "text": [
      "/var/folders/g0/g5qr_lwn28d7m35_7c1ksm300000gn/T/ipykernel_30597/834996259.py:8: FutureWarning: A value is trying to be set on a copy of a DataFrame or Series through chained assignment using an inplace method.\n",
      "The behavior will change in pandas 3.0. This inplace method will never work because the intermediate object on which we are setting values always behaves as a copy.\n",
      "\n",
      "For example, when doing 'df[col].method(value, inplace=True)', try using 'df.method({col: value}, inplace=True)' or df[col] = df[col].method(value) instead, to perform the operation inplace on the original object.\n",
      "\n",
      "\n",
      "  train_df[\"Num_Credit_Inquiries\"].fillna(\n"
     ]
    }
   ],
   "source": [
    "# Convert 'Num_Credit_Inquiries' to numeric, forcing errors to NaN\n",
    "train_df[\"Num_Credit_Inquiries\"] = pd.to_numeric(\n",
    "    train_df[\"Num_Credit_Inquiries\"], errors=\"coerce\"\n",
    ")\n",
    "\n",
    "\n",
    "# Handle NaN values (e.g., fill NaN with the 0)\n",
    "train_df[\"Num_Credit_Inquiries\"].fillna(\n",
    "    0, inplace=True\n",
    ")\n",
    "\n",
    "# Verify that the 'Num_Credit_Inquiries' column is cleaned\n",
    "print(train_df[\"Num_Credit_Inquiries\"].describe())"
   ]
  },
  {
   "cell_type": "code",
   "execution_count": 46,
   "metadata": {},
   "outputs": [
    {
     "data": {
      "text/plain": [
       "count    5.000000e+04\n",
       "mean     1.663342e+05\n",
       "std      1.351965e+06\n",
       "min      7.005930e+03\n",
       "25%      1.945333e+04\n",
       "50%      3.757782e+04\n",
       "75%      7.281702e+04\n",
       "max      2.413726e+07\n",
       "Name: Annual_Income, dtype: float64"
      ]
     },
     "execution_count": 46,
     "metadata": {},
     "output_type": "execute_result"
    }
   ],
   "source": [
    "train_df[\"Annual_Income\"] = train_df[\"Annual_Income\"].str.rstrip(\"_\")\n",
    "train_df[\"Annual_Income\"] = train_df[\"Annual_Income\"].astype(float)\n",
    "\n",
    "\n",
    "# Verify the changes\n",
    "column_description = train_df[\"Annual_Income\"].describe()\n",
    "column_description"
   ]
  },
  {
   "cell_type": "code",
   "execution_count": 47,
   "metadata": {},
   "outputs": [
    {
     "data": {
      "text/plain": [
       "count    5.000000e+04\n",
       "mean     5.548293e+03\n",
       "std      4.228888e+04\n",
       "min      3.036454e+02\n",
       "25%      1.624752e+03\n",
       "50%      3.088475e+03\n",
       "75%      5.957448e+03\n",
       "max      1.979290e+06\n",
       "Name: Monthly_Inhand_Salary, dtype: float64"
      ]
     },
     "execution_count": 47,
     "metadata": {},
     "output_type": "execute_result"
    }
   ],
   "source": [
    "train_df[\"Monthly_Inhand_Salary\"] = train_df[\"Monthly_Inhand_Salary\"].fillna(\n",
    "    train_df[\"Annual_Income\"] / 12\n",
    ")\n",
    "column_description = train_df[\"Monthly_Inhand_Salary\"].describe()\n",
    "column_description"
   ]
  },
  {
   "cell_type": "code",
   "execution_count": 48,
   "metadata": {},
   "outputs": [
    {
     "name": "stdout",
     "output_type": "stream",
     "text": [
      "Low_spent_Small_value_payments\n"
     ]
    },
    {
     "data": {
      "text/plain": [
       "Payment_Behaviour\n",
       "Low_spent_Small_value_payments      16494\n",
       "High_spent_Medium_value_payments     8922\n",
       "High_spent_Large_value_payments      6844\n",
       "Low_spent_Medium_value_payments      6837\n",
       "High_spent_Small_value_payments      5651\n",
       "Low_spent_Large_value_payments       5252\n",
       "Name: count, dtype: int64"
      ]
     },
     "execution_count": 48,
     "metadata": {},
     "output_type": "execute_result"
    }
   ],
   "source": [
    "train_df.Payment_Behaviour.value_counts()\n",
    "\n",
    "# Replace the special string with NaN in the 'Payment_Behaviour' column\n",
    "train_df['Payment_Behaviour'] = train_df['Payment_Behaviour'].replace('!@9#%8', pd.NA)\n",
    "\n",
    "# Calculate the mode of 'Payment_Behaviour' column and fill missing values\n",
    "most_frequent_value = train_df['Payment_Behaviour'].mode()[0]\n",
    "train_df['Payment_Behaviour'] = train_df['Payment_Behaviour'].fillna(most_frequent_value)\n",
    "print(most_frequent_value)\n",
    "\n",
    "train_df.Payment_Behaviour.value_counts()\n",
    "\n"
   ]
  },
  {
   "cell_type": "code",
   "execution_count": 49,
   "metadata": {},
   "outputs": [
    {
     "data": {
      "text/plain": [
       "Payment_of_Min_Amount\n",
       "Yes    26158\n",
       "No     23842\n",
       "Name: count, dtype: int64"
      ]
     },
     "execution_count": 49,
     "metadata": {},
     "output_type": "execute_result"
    }
   ],
   "source": [
    "train_df.Payment_of_Min_Amount.value_counts()\n",
    "train_df['Payment_of_Min_Amount'] = train_df['Payment_of_Min_Amount'].apply(lambda val: \"No\" if val in [\"NM\", \"\"] else val)\n",
    "\n",
    "train_df.Payment_of_Min_Amount.value_counts()\n",
    "\n"
   ]
  },
  {
   "cell_type": "code",
   "execution_count": 50,
   "metadata": {},
   "outputs": [
    {
     "name": "stdout",
     "output_type": "stream",
     "text": [
      "Remaining null values: 0\n",
      "194.83561690699673\n"
     ]
    },
    {
     "data": {
      "text/plain": [
       "Amount_invested_monthly\n",
       "194.835617    4446\n",
       "0.000000       106\n",
       "236.642682       1\n",
       "160.097717       1\n",
       "320.456645       1\n",
       "              ... \n",
       "197.217131       1\n",
       "366.231484       1\n",
       "34.899406        1\n",
       "256.908305       1\n",
       "220.457878       1\n",
       "Name: count, Length: 45450, dtype: int64"
      ]
     },
     "execution_count": 50,
     "metadata": {},
     "output_type": "execute_result"
    }
   ],
   "source": [
    "train_df.Amount_invested_monthly.value_counts()\n",
    "\n",
    "# Replace invalid or missing entries in 'Amount_invested_monthly' with NaN\n",
    "train_df['Amount_invested_monthly'] = train_df['Amount_invested_monthly'].apply(lambda val: np.nan if val in [\"__10000__\", \"\"] else float(val))\n",
    "\n",
    "# Calculate the mean of the 'Amount_invested_monthly' column\n",
    "avg_investment = train_df['Amount_invested_monthly'].mean()\n",
    "\n",
    "train_df['Amount_invested_monthly'] = train_df['Amount_invested_monthly'].fillna(value=avg_investment)\n",
    "\n",
    "# Check if any null values remain in the column\n",
    "remaining_nulls = train_df['Amount_invested_monthly'].isnull().sum()\n",
    "print(f\"Remaining null values: {remaining_nulls}\")\n",
    "print(avg_investment)\n",
    "\n",
    "train_df.Amount_invested_monthly.value_counts()"
   ]
  },
  {
   "cell_type": "code",
   "execution_count": 51,
   "metadata": {},
   "outputs": [
    {
     "data": {
      "text/plain": [
       "0"
      ]
     },
     "execution_count": 51,
     "metadata": {},
     "output_type": "execute_result"
    }
   ],
   "source": [
    "train_df.Total_EMI_per_month.value_counts()\n",
    "\n",
    "train_df.Total_EMI_per_month.isna().sum()\n",
    "\n",
    "train_df[train_df['Total_EMI_per_month'] < 0]['Total_EMI_per_month'].count() "
   ]
  },
  {
   "cell_type": "markdown",
   "metadata": {},
   "source": [
    "EDA of data"
   ]
  },
  {
   "cell_type": "code",
   "execution_count": 52,
   "metadata": {},
   "outputs": [
    {
     "ename": "NameError",
     "evalue": "name 'numeric_columns' is not defined",
     "output_type": "error",
     "traceback": [
      "\u001b[0;31m---------------------------------------------------------------------------\u001b[0m",
      "\u001b[0;31mNameError\u001b[0m                                 Traceback (most recent call last)",
      "Cell \u001b[0;32mIn[52], line 2\u001b[0m\n\u001b[1;32m      1\u001b[0m \u001b[38;5;66;03m#remove outliars from all numeric columns\u001b[39;00m\n\u001b[0;32m----> 2\u001b[0m \u001b[38;5;28;01mfor\u001b[39;00m column \u001b[38;5;129;01min\u001b[39;00m \u001b[43mnumeric_columns\u001b[49m:\n\u001b[1;32m      3\u001b[0m     upper_limit \u001b[38;5;241m=\u001b[39m train_df[column]\u001b[38;5;241m.\u001b[39mquantile(\u001b[38;5;241m0.99\u001b[39m)\n\u001b[1;32m      4\u001b[0m     train_df[column] \u001b[38;5;241m=\u001b[39m train_df[column]\u001b[38;5;241m.\u001b[39mclip(upper\u001b[38;5;241m=\u001b[39mupper_limit)\n",
      "\u001b[0;31mNameError\u001b[0m: name 'numeric_columns' is not defined"
     ]
    }
   ],
   "source": [
    "#remove outliars from all numeric columns\n",
    "for column in numeric_columns:\n",
    "    upper_limit = train_df[column].quantile(0.99)\n",
    "    train_df[column] = train_df[column].clip(upper=upper_limit)"
   ]
  },
  {
   "cell_type": "code",
   "execution_count": 207,
   "metadata": {},
   "outputs": [],
   "source": [
    "# removing huge outliars\n",
    "train_df = train_df[(train_df[\"Age\"] <= 75) & (train_df[\"Age\"] >= 0)]\n",
    "train_df = train_df[(train_df[\"Interest_Rate\"] < 116)]\n",
    "train_df=train_df[(train_df['Num_Bank_Accounts'] >0) & (train_df['Num_Bank_Accounts'] < 190)]\n",
    "train_df = train_df[(train_df[\"Num_of_Loan\"] < 100)]\n",
    "train_df = train_df[(train_df[\"Num_of_Delayed_Payment\"] < 40)]\n",
    "train_df = train_df[(train_df[\"Outstanding_Debt\"] < 4100)]\n",
    "\n",
    "train_df = train_df[\n",
    "    (train_df[\"Changed_Credit_Limit\"] <= 30)\n",
    "]  \n",
    "train_df = train_df[(train_df[\"Total_EMI_per_month\"] <= 10000)]  \n",
    "\n",
    "\n",
    "train_df = train_df[(train_df[\"Num_Credit_Inquiries\"] < 81)]\n",
    "train_df = train_df[(train_df[\"Num_Credit_Card\"] < 100)]"
   ]
  },
  {
   "cell_type": "markdown",
   "metadata": {},
   "source": [
    "Preprocessing"
   ]
  },
  {
   "cell_type": "code",
   "execution_count": 218,
   "metadata": {},
   "outputs": [],
   "source": [
    "import pandas as pd\n",
    "from sklearn.preprocessing import LabelEncoder\n",
    "\n",
    "# Assuming train_df is already defined\n",
    "# Identify all categorical columns\n",
    "categorical_columns = train_df.select_dtypes(\n",
    "    include=[\"object\", \"category\"]\n",
    ").columns.tolist()\n",
    "\n",
    "# Initialize the LabelEncoder\n",
    "label_encoder = LabelEncoder()\n",
    "\n",
    "# Apply label encoding to each categorical column and save as new column\n",
    "for column in categorical_columns:\n",
    "    train_df[f\"label_{column}\"] = label_encoder.fit_transform(train_df[column])\n",
    "    train_df.drop(columns=[column], inplace=True)"
   ]
  },
  {
   "cell_type": "code",
   "execution_count": 224,
   "metadata": {},
   "outputs": [],
   "source": [
    "train_df=train_df.drop(['label_Occupation','Credit_Utilization_Ratio','label_Payment_Behaviour'],axis=1)"
   ]
  },
  {
   "cell_type": "code",
   "execution_count": 225,
   "metadata": {},
   "outputs": [],
   "source": [
    "train_df.to_csv(\"train_df_cleaned.csv\", index=False)"
   ]
  },
  {
   "cell_type": "markdown",
   "metadata": {},
   "source": [
    "Applying models"
   ]
  },
  {
   "cell_type": "code",
   "execution_count": 227,
   "metadata": {},
   "outputs": [],
   "source": [
    "df = pd.read_csv(\"test_df_cleaned.csv\")"
   ]
  },
  {
   "cell_type": "code",
   "execution_count": null,
   "metadata": {},
   "outputs": [],
   "source": []
  },
  {
   "cell_type": "code",
   "execution_count": null,
   "metadata": {},
   "outputs": [],
   "source": [
    "# from lazypredict.Supervised import LazyClassifier\n",
    "# from sklearn.model_selection import train_test_split\n",
    "\n",
    "# test_df=pd.read_csv(\"dataset/test.csv\")\n",
    "\n",
    "# # Define the target and features\n",
    "# X_train = df.drop(columns=[\"label_Credit_Score\"])\n",
    "# y_train = df[\"label_Credit_Score\"]\n",
    "\n",
    "\n",
    "# # Split the data into training and testing sets\n",
    "# X_train, X_test, y_train, y_test = train_test_split(X, y, test_size=0.2, random_state=42)\n",
    "\n",
    "# # Initialize LazyClassifier\n",
    "# clf = LazyClassifier(verbose=0, ignore_warnings=True, custom_metric=None)\n",
    "\n",
    "# # Fit the models\n",
    "# models, predictions = clf.fit(X_train, X_test, y_train, y_test)\n",
    "\n",
    "# # Display the results\n",
    "# print(models)"
   ]
  }
 ],
 "metadata": {
  "kernelspec": {
   "display_name": "Python 3",
   "language": "python",
   "name": "python3"
  },
  "language_info": {
   "codemirror_mode": {
    "name": "ipython",
    "version": 3
   },
   "file_extension": ".py",
   "mimetype": "text/x-python",
   "name": "python",
   "nbconvert_exporter": "python",
   "pygments_lexer": "ipython3",
   "version": "3.12.3"
  }
 },
 "nbformat": 4,
 "nbformat_minor": 2
}
